{
 "cells": [
  {
   "cell_type": "code",
   "execution_count": 1,
   "id": "f42a908d",
   "metadata": {},
   "outputs": [],
   "source": [
    "from src.mazeData import *"
   ]
  },
  {
   "cell_type": "code",
   "execution_count": 2,
   "id": "4a580bf0",
   "metadata": {},
   "outputs": [],
   "source": [
    "n=7\n",
    "maze1=makeMaze(n)\n",
    "mazeAvailActs=defineMazeAvailableActions(maze1)"
   ]
  },
  {
   "cell_type": "code",
   "execution_count": 3,
   "id": "db2d8f93",
   "metadata": {},
   "outputs": [
    {
     "data": {
      "text/plain": [
       "array([[1, 1, 1, 1, 1, 1, 1],\n",
       "       [0, 1, 1, 1, 1, 1, 1],\n",
       "       [1, 1, 1, 0, 1, 1, 1],\n",
       "       [0, 1, 1, 1, 1, 0, 1],\n",
       "       [1, 1, 0, 1, 1, 0, 0],\n",
       "       [0, 1, 1, 0, 1, 0, 1],\n",
       "       [1, 1, 1, 1, 1, 1, 0]])"
      ]
     },
     "execution_count": 3,
     "metadata": {},
     "output_type": "execute_result"
    }
   ],
   "source": [
    "maze1"
   ]
  },
  {
   "cell_type": "code",
   "execution_count": 4,
   "id": "7237ca72",
   "metadata": {},
   "outputs": [
    {
     "data": {
      "text/plain": [
       "{(0, 0): ['right'],\n",
       " (0, 1): ['left', 'right', 'down'],\n",
       " (0, 2): ['left', 'right', 'down'],\n",
       " (0, 3): ['left', 'right', 'down'],\n",
       " (0, 4): ['left', 'right', 'down'],\n",
       " (0, 5): ['left', 'right', 'down'],\n",
       " (0, 6): ['left', 'down'],\n",
       " (1, 0): [],\n",
       " (1, 1): ['up', 'right', 'down'],\n",
       " (1, 2): ['left', 'up', 'right', 'down'],\n",
       " (1, 3): ['left', 'up', 'right'],\n",
       " (1, 4): ['left', 'up', 'right', 'down'],\n",
       " (1, 5): ['left', 'up', 'right', 'down'],\n",
       " (1, 6): ['left', 'up', 'down'],\n",
       " (2, 0): ['right'],\n",
       " (2, 1): ['left', 'up', 'right', 'down'],\n",
       " (2, 2): ['left', 'up', 'down'],\n",
       " (2, 3): [],\n",
       " (2, 4): ['up', 'right', 'down'],\n",
       " (2, 5): ['left', 'up', 'right'],\n",
       " (2, 6): ['left', 'up', 'down'],\n",
       " (3, 0): [],\n",
       " (3, 1): ['up', 'right', 'down'],\n",
       " (3, 2): ['left', 'up', 'right'],\n",
       " (3, 3): ['left', 'right', 'down'],\n",
       " (3, 4): ['left', 'up', 'down'],\n",
       " (3, 5): [],\n",
       " (3, 6): ['up'],\n",
       " (4, 0): ['right'],\n",
       " (4, 1): ['left', 'up', 'down'],\n",
       " (4, 2): [],\n",
       " (4, 3): ['up', 'right'],\n",
       " (4, 4): ['left', 'up', 'down'],\n",
       " (4, 5): [],\n",
       " (4, 6): [],\n",
       " (5, 0): [],\n",
       " (5, 1): ['up', 'right', 'down'],\n",
       " (5, 2): ['left', 'down'],\n",
       " (5, 3): [],\n",
       " (5, 4): ['up', 'down'],\n",
       " (5, 5): [],\n",
       " (5, 6): [],\n",
       " (6, 0): ['right'],\n",
       " (6, 1): ['left', 'up', 'right'],\n",
       " (6, 2): ['left', 'up', 'right'],\n",
       " (6, 3): ['left', 'right'],\n",
       " (6, 4): ['left', 'up', 'right'],\n",
       " (6, 5): ['left'],\n",
       " (6, 6): []}"
      ]
     },
     "execution_count": 4,
     "metadata": {},
     "output_type": "execute_result"
    }
   ],
   "source": [
    "mazeAvailActs"
   ]
  }
 ],
 "metadata": {
  "kernelspec": {
   "display_name": ".venv",
   "language": "python",
   "name": "python3"
  },
  "language_info": {
   "codemirror_mode": {
    "name": "ipython",
    "version": 3
   },
   "file_extension": ".py",
   "mimetype": "text/x-python",
   "name": "python",
   "nbconvert_exporter": "python",
   "pygments_lexer": "ipython3",
   "version": "3.13.8"
  }
 },
 "nbformat": 4,
 "nbformat_minor": 5
}
