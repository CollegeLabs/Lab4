{
 "cells": [
  {
   "cell_type": "code",
   "execution_count": 201,
   "id": "f42a908d",
   "metadata": {},
   "outputs": [],
   "source": [
    "from src.mazeData import *\n",
    "from src.maze2025GraphClass import mazeGraph\n",
    "from pyvis.network import Network\n",
    "from src.PS_agentPrograms import *\n",
    "from src.mazeProblemClass import MazeProblem\n",
    "from src.agents import *\n",
    "from src.naigationEnvironmentClass import MazeNavigationEnvironment\n",
    "from src.Lab4Environment import *"
   ]
  },
  {
   "cell_type": "code",
   "execution_count": 202,
   "id": "4a580bf0",
   "metadata": {},
   "outputs": [
    {
     "data": {
      "text/plain": [
       "{(0, 0): {'down': (1, 0)},\n",
       " (0, 1): {},\n",
       " (0, 2): {},\n",
       " (0, 3): {'down': (1, 3)},\n",
       " (0, 4): {},\n",
       " (0, 5): {},\n",
       " (0, 6): {},\n",
       " (1, 0): {'up': (0, 0), 'down': (2, 0)},\n",
       " (1, 1): {},\n",
       " (1, 2): {'right': (1, 3)},\n",
       " (1, 3): {'left': (1, 2), 'up': (0, 3), 'right': (1, 4), 'down': (2, 3)},\n",
       " (1, 4): {'left': (1, 3), 'right': (1, 5), 'down': (2, 4)},\n",
       " (1, 5): {'left': (1, 4), 'right': (1, 6), 'down': (2, 5)},\n",
       " (1, 6): {'left': (1, 5)},\n",
       " (2, 0): {'up': (1, 0), 'right': (2, 1), 'down': (3, 0)},\n",
       " (2, 1): {'left': (2, 0)},\n",
       " (2, 2): {},\n",
       " (2, 3): {'up': (1, 3), 'right': (2, 4)},\n",
       " (2, 4): {'left': (2, 3), 'up': (1, 4), 'right': (2, 5), 'down': (3, 4)},\n",
       " (2, 5): {'left': (2, 4), 'up': (1, 5), 'down': (3, 5)},\n",
       " (2, 6): {},\n",
       " (3, 0): {'up': (2, 0), 'down': (4, 0)},\n",
       " (3, 1): {},\n",
       " (3, 2): {'down': (4, 2)},\n",
       " (3, 3): {},\n",
       " (3, 4): {'up': (2, 4), 'right': (3, 5), 'down': (4, 4)},\n",
       " (3, 5): {'left': (3, 4), 'up': (2, 5), 'right': (3, 6), 'down': (4, 5)},\n",
       " (3, 6): {'left': (3, 5)},\n",
       " (4, 0): {'up': (3, 0), 'down': (5, 0)},\n",
       " (4, 1): {},\n",
       " (4, 2): {'up': (3, 2), 'right': (4, 3), 'down': (5, 2)},\n",
       " (4, 3): {'left': (4, 2), 'right': (4, 4)},\n",
       " (4, 4): {'left': (4, 3), 'up': (3, 4), 'right': (4, 5), 'down': (5, 4)},\n",
       " (4, 5): {'left': (4, 4), 'up': (3, 5), 'down': (5, 5)},\n",
       " (4, 6): {},\n",
       " (5, 0): {'up': (4, 0), 'right': (5, 1), 'down': (6, 0)},\n",
       " (5, 1): {'left': (5, 0), 'right': (5, 2), 'down': (6, 1)},\n",
       " (5, 2): {'left': (5, 1), 'up': (4, 2)},\n",
       " (5, 3): {},\n",
       " (5, 4): {'up': (4, 4), 'right': (5, 5), 'down': (6, 4)},\n",
       " (5, 5): {'left': (5, 4), 'up': (4, 5), 'right': (5, 6), 'down': (6, 5)},\n",
       " (5, 6): {'left': (5, 5), 'down': (6, 6)},\n",
       " (6, 0): {'up': (5, 0), 'right': (6, 1)},\n",
       " (6, 1): {'left': (6, 0), 'up': (5, 1)},\n",
       " (6, 2): {},\n",
       " (6, 3): {},\n",
       " (6, 4): {'up': (5, 4), 'right': (6, 5)},\n",
       " (6, 5): {'left': (6, 4), 'up': (5, 5), 'right': (6, 6)},\n",
       " (6, 6): {'left': (6, 5), 'up': (5, 6)}}"
      ]
     },
     "execution_count": 202,
     "metadata": {},
     "output_type": "execute_result"
    }
   ],
   "source": [
    "def makeMaze(n):\n",
    "  size = (n,n)\n",
    "  proba_0 =0.25 # resulting array will have 25%? of zeros\n",
    "  proba_Enemy =0.1 # resulting array will have 10%? of enemy\n",
    "  arrMaze=np.random.choice([0, 1, 2], size=size, p=[proba_0, 1-proba_0-proba_Enemy, proba_Enemy] )\n",
    "  return arrMaze\n",
    "\n",
    "initState = (random.randint(0,6),random.randint(0,6))\n",
    "goalState = (random.randint(0,6),random.randint(0,6))\n",
    "\n",
    "mazeSize=7\n",
    "mainMaze = makeMaze(mazeSize)\n",
    "MazeCheck(mainMaze,initState,goalState)\n",
    "mazeAvalActs=defineMazeAvailableActions(mainMaze)\n",
    "maze1TM=makeMazeTransformationModel(mazeAvalActs)\n",
    "mazeWorldGraph=mazeGraph(maze1TM, mazeStatesLocations(list(maze1TM.keys())))\n",
    "\n",
    "maze1TM"
   ]
  },
  {
   "cell_type": "code",
   "execution_count": 203,
   "id": "db2d8f93",
   "metadata": {},
   "outputs": [
    {
     "data": {
      "text/plain": [
       "array([[1, 0, 0, 1, 0, 0, 0],\n",
       "       [1, 0, 1, 1, 2, 1, 1],\n",
       "       [1, 1, 0, 1, 1, 1, 0],\n",
       "       [1, 0, 1, 0, 1, 1, 1],\n",
       "       [1, 0, 1, 1, 1, 1, 0],\n",
       "       [1, 1, 1, 0, 1, 1, 1],\n",
       "       [1, 1, 0, 0, 1, 1, 2]])"
      ]
     },
     "execution_count": 203,
     "metadata": {},
     "output_type": "execute_result"
    }
   ],
   "source": [
    "mainMaze"
   ]
  },
  {
   "cell_type": "code",
   "execution_count": 204,
   "id": "905585d4",
   "metadata": {},
   "outputs": [
    {
     "data": {
      "text/plain": [
       "{(0, 0): {'down': (1, 0)},\n",
       " (0, 1): {},\n",
       " (0, 2): {},\n",
       " (0, 3): {'down': (1, 3)},\n",
       " (0, 4): {},\n",
       " (0, 5): {},\n",
       " (0, 6): {},\n",
       " (1, 0): {'up': (0, 0), 'down': (2, 0)},\n",
       " (1, 1): {},\n",
       " (1, 2): {'right': (1, 3)},\n",
       " (1, 3): {'left': (1, 2), 'up': (0, 3), 'right': (1, 4), 'down': (2, 3)},\n",
       " (1, 4): {'left': (1, 3), 'right': (1, 5), 'down': (2, 4)},\n",
       " (1, 5): {'left': (1, 4), 'right': (1, 6), 'down': (2, 5)},\n",
       " (1, 6): {'left': (1, 5)},\n",
       " (2, 0): {'up': (1, 0), 'right': (2, 1), 'down': (3, 0)},\n",
       " (2, 1): {'left': (2, 0)},\n",
       " (2, 2): {},\n",
       " (2, 3): {'up': (1, 3), 'right': (2, 4)},\n",
       " (2, 4): {'left': (2, 3), 'up': (1, 4), 'right': (2, 5), 'down': (3, 4)},\n",
       " (2, 5): {'left': (2, 4), 'up': (1, 5), 'down': (3, 5)},\n",
       " (2, 6): {},\n",
       " (3, 0): {'up': (2, 0), 'down': (4, 0)},\n",
       " (3, 1): {},\n",
       " (3, 2): {'down': (4, 2)},\n",
       " (3, 3): {},\n",
       " (3, 4): {'up': (2, 4), 'right': (3, 5), 'down': (4, 4)},\n",
       " (3, 5): {'left': (3, 4), 'up': (2, 5), 'right': (3, 6), 'down': (4, 5)},\n",
       " (3, 6): {'left': (3, 5)},\n",
       " (4, 0): {'up': (3, 0), 'down': (5, 0)},\n",
       " (4, 1): {},\n",
       " (4, 2): {'up': (3, 2), 'right': (4, 3), 'down': (5, 2)},\n",
       " (4, 3): {'left': (4, 2), 'right': (4, 4)},\n",
       " (4, 4): {'left': (4, 3), 'up': (3, 4), 'right': (4, 5), 'down': (5, 4)},\n",
       " (4, 5): {'left': (4, 4), 'up': (3, 5), 'down': (5, 5)},\n",
       " (4, 6): {},\n",
       " (5, 0): {'up': (4, 0), 'right': (5, 1), 'down': (6, 0)},\n",
       " (5, 1): {'left': (5, 0), 'right': (5, 2), 'down': (6, 1)},\n",
       " (5, 2): {'left': (5, 1), 'up': (4, 2)},\n",
       " (5, 3): {},\n",
       " (5, 4): {'up': (4, 4), 'right': (5, 5), 'down': (6, 4)},\n",
       " (5, 5): {'left': (5, 4), 'up': (4, 5), 'right': (5, 6), 'down': (6, 5)},\n",
       " (5, 6): {'left': (5, 5), 'down': (6, 6)},\n",
       " (6, 0): {'up': (5, 0), 'right': (6, 1)},\n",
       " (6, 1): {'left': (6, 0), 'up': (5, 1)},\n",
       " (6, 2): {},\n",
       " (6, 3): {},\n",
       " (6, 4): {'up': (5, 4), 'right': (6, 5)},\n",
       " (6, 5): {'left': (6, 4), 'up': (5, 5), 'right': (6, 6)},\n",
       " (6, 6): {'left': (6, 5), 'up': (5, 6)}}"
      ]
     },
     "execution_count": 204,
     "metadata": {},
     "output_type": "execute_result"
    }
   ],
   "source": [
    "maze1TM"
   ]
  },
  {
   "cell_type": "code",
   "execution_count": 205,
   "id": "7237ca72",
   "metadata": {},
   "outputs": [
    {
     "data": {
      "text/plain": [
       "{(0, 0): ['down'],\n",
       " (0, 1): [],\n",
       " (0, 2): [],\n",
       " (0, 3): ['down'],\n",
       " (0, 4): [],\n",
       " (0, 5): [],\n",
       " (0, 6): [],\n",
       " (1, 0): ['up', 'down'],\n",
       " (1, 1): [],\n",
       " (1, 2): ['right'],\n",
       " (1, 3): ['left', 'up', 'right', 'down'],\n",
       " (1, 4): ['left', 'right', 'down'],\n",
       " (1, 5): ['left', 'right', 'down'],\n",
       " (1, 6): ['left'],\n",
       " (2, 0): ['up', 'right', 'down'],\n",
       " (2, 1): ['left'],\n",
       " (2, 2): [],\n",
       " (2, 3): ['up', 'right'],\n",
       " (2, 4): ['left', 'up', 'right', 'down'],\n",
       " (2, 5): ['left', 'up', 'down'],\n",
       " (2, 6): [],\n",
       " (3, 0): ['up', 'down'],\n",
       " (3, 1): [],\n",
       " (3, 2): ['down'],\n",
       " (3, 3): [],\n",
       " (3, 4): ['up', 'right', 'down'],\n",
       " (3, 5): ['left', 'up', 'right', 'down'],\n",
       " (3, 6): ['left'],\n",
       " (4, 0): ['up', 'down'],\n",
       " (4, 1): [],\n",
       " (4, 2): ['up', 'right', 'down'],\n",
       " (4, 3): ['left', 'right'],\n",
       " (4, 4): ['left', 'up', 'right', 'down'],\n",
       " (4, 5): ['left', 'up', 'down'],\n",
       " (4, 6): [],\n",
       " (5, 0): ['up', 'right', 'down'],\n",
       " (5, 1): ['left', 'right', 'down'],\n",
       " (5, 2): ['left', 'up'],\n",
       " (5, 3): [],\n",
       " (5, 4): ['up', 'right', 'down'],\n",
       " (5, 5): ['left', 'up', 'right', 'down'],\n",
       " (5, 6): ['left', 'down'],\n",
       " (6, 0): ['up', 'right'],\n",
       " (6, 1): ['left', 'up'],\n",
       " (6, 2): [],\n",
       " (6, 3): [],\n",
       " (6, 4): ['up', 'right'],\n",
       " (6, 5): ['left', 'up', 'right'],\n",
       " (6, 6): ['left', 'up']}"
      ]
     },
     "execution_count": 205,
     "metadata": {},
     "output_type": "execute_result"
    }
   ],
   "source": [
    "mazeAvalActs"
   ]
  },
  {
   "cell_type": "code",
   "execution_count": 206,
   "id": "2f25bdc8",
   "metadata": {},
   "outputs": [],
   "source": [
    "net_maze = Network(heading=\"Lab 4 Maze\",\n",
    "                bgcolor =\"#242020\",\n",
    "                font_color = \"white\",\n",
    "                height = \"750px\",\n",
    "                width = \"100%\" \n",
    ")\n",
    "nodeColors={\n",
    "    \"wall\":\"red\",\n",
    "    \"path\": \"White\",\n",
    "    \"Goal\": \"Green\",\n",
    "    \"Start\": \"Yellow\",\n",
    "    \"Enemy\": \"Orange\"\n",
    "}\n",
    "nodeColorsList=[]\n",
    "\n",
    "for node in mazeWorldGraph.origin.keys():\n",
    "    if mainMaze[node[0],node[1]]==1:\n",
    "        nodeColorsList.append(nodeColors[\"path\"])\n",
    "    elif mainMaze[node[0],node[1]]==0:\n",
    "        nodeColorsList.append(nodeColors[\"wall\"])\n",
    "    else:\n",
    "        nodeColorsList.append(nodeColors[\"Enemy\"])\n",
    "\n",
    "nodes=[\"-\".join(str(item) for item in el) for el in mazeWorldGraph.origin.keys()]\n",
    "\n",
    "x_coords = []\n",
    "y_coords = []\n",
    "\n",
    "for node in mazeWorldGraph.origin.keys():\n",
    "    x,y=mazeWorldGraph.getLocation(node)\n",
    "    x_coords.append(x)\n",
    "    y_coords.append(y)\n",
    "\n",
    "sizes=[10]*len(nodes)\n",
    "net_maze.add_nodes(nodes, color=nodeColorsList, x=x_coords, y=y_coords, size=sizes, title=nodes)\n",
    "\n",
    "for node in net_maze.nodes:\n",
    "    node['label']=''\n",
    "\n",
    "edge_weights = {(intTupleTostr(k), intTupleTostr(v2)) : k2 for k, v in mazeWorldGraph.origin.items() for k2, v2 in v.items()}\n",
    "\n",
    "edges=[]\n",
    "\n",
    "for node_source in mazeWorldGraph.nodes():\n",
    "    for node_target, action in mazeWorldGraph.get(node_source).items():\n",
    "        #node_target or node_source is a tuple -> convert to str\n",
    "        if (intTupleTostr(node_source),intTupleTostr(node_target)) not in edges and (intTupleTostr(node_target), intTupleTostr(node_source)):\n",
    "            net_maze.add_edge(intTupleTostr(node_source),intTupleTostr(node_target), label=edge_weights[(intTupleTostr(node_source),intTupleTostr(node_target))])\n",
    "            edges.append((intTupleTostr(node_source),intTupleTostr(node_target)))\n",
    "\n",
    "for node in net_maze.nodes:\n",
    "    if node['id']==intTupleTostr(goalState):\n",
    "        node['color']=nodeColors['Goal']\n",
    "    elif node['id']==intTupleTostr(initState):\n",
    "        node['color']=nodeColors['Start']\n"
   ]
  },
  {
   "cell_type": "code",
   "execution_count": 207,
   "id": "5228c962",
   "metadata": {},
   "outputs": [],
   "source": [
    "net_maze.toggle_physics(False)"
   ]
  },
  {
   "cell_type": "code",
   "execution_count": 208,
   "id": "564dfe35",
   "metadata": {},
   "outputs": [],
   "source": [
    "mp1=MazeProblem(initState, goalState, mazeWorldGraph)"
   ]
  },
  {
   "cell_type": "code",
   "execution_count": 209,
   "id": "f4534c50",
   "metadata": {},
   "outputs": [],
   "source": [
    "BFSAgent=BestFirstSearchAgentProgram()\n",
    "DLS=IDSearchAgentProgram()"
   ]
  },
  {
   "cell_type": "code",
   "execution_count": 210,
   "id": "388bb563",
   "metadata": {},
   "outputs": [],
   "source": [
    "BFSmazeAgent1=ProblemSolvingMazeAgentBFS(initState, mazeWorldGraph, goalState)\n",
    "DLSAgent1=ProblemSolvingMazeAgentIDS(initState, mazeWorldGraph, goalState)"
   ]
  },
  {
   "cell_type": "code",
   "execution_count": 211,
   "id": "bd938633",
   "metadata": {},
   "outputs": [],
   "source": [
    "maze_Env1=Lab4NavEnvironment(mazeWorldGraph, mainMaze)\n",
    "maze_Env2=Lab4NavEnvironment(mazeWorldGraph, mainMaze)\n",
    "\n",
    "#maze_Env1=MazeNavigationEnvironment(mazeWorldGraph)\n",
    "#maze_Env2=MazeNavigationEnvironment(mazeWorldGraph)"
   ]
  },
  {
   "cell_type": "code",
   "execution_count": 212,
   "id": "72101646",
   "metadata": {},
   "outputs": [
    {
     "name": "stdout",
     "output_type": "stream",
     "text": [
      "The <Node (5, 0)> is being pushed to frontier ...\n",
      "The <Node (5, 0)> is being extracted from frontier ...\n",
      "The child <Node (4, 0)> is being pushed to frontier ...\n",
      "The child <Node (5, 1)> is being pushed to frontier ...\n",
      "The child <Node (6, 0)> is being pushed to frontier ...\n",
      "The <Node (4, 0)> is being extracted from frontier ...\n",
      "The child <Node (3, 0)> is being pushed to frontier ...\n",
      "The <Node (3, 0)> is being extracted from frontier ...\n",
      "The child <Node (2, 0)> is being pushed to frontier ...\n",
      "The <Node (2, 0)> is being extracted from frontier ...\n",
      "The child <Node (1, 0)> is being pushed to frontier ...\n",
      "The child <Node (2, 1)> is being pushed to frontier ...\n",
      "The <Node (1, 0)> is being extracted from frontier ...\n",
      "The child <Node (0, 0)> is being pushed to frontier ...\n",
      "The <Node (0, 0)> is being extracted from frontier ...\n",
      "The <Node (2, 1)> is being extracted from frontier ...\n",
      "The <Node (5, 1)> is being extracted from frontier ...\n",
      "The child <Node (5, 2)> is being pushed to frontier ...\n",
      "The child <Node (6, 1)> is being pushed to frontier ...\n",
      "The <Node (5, 2)> is being extracted from frontier ...\n",
      "The child <Node (4, 2)> is being pushed to frontier ...\n",
      "The <Node (4, 2)> is being extracted from frontier ...\n",
      "The child <Node (3, 2)> is being pushed to frontier ...\n",
      "The child <Node (4, 3)> is being pushed to frontier ...\n",
      "The <Node (3, 2)> is being extracted from frontier ...\n",
      "The <Node (4, 3)> is being extracted from frontier ...\n",
      "The child <Node (4, 4)> is being pushed to frontier ...\n",
      "The <Node (4, 4)> is being extracted from frontier ...\n",
      "The child <Node (3, 4)> is being pushed to frontier ...\n",
      "The child <Node (4, 5)> is being pushed to frontier ...\n",
      "The child <Node (5, 4)> is being pushed to frontier ...\n",
      "The <Node (3, 4)> is being extracted from frontier ...\n",
      "The child <Node (2, 4)> is being pushed to frontier ...\n",
      "The child <Node (3, 5)> is being pushed to frontier ...\n",
      "The <Node (2, 4)> is being extracted from frontier ...\n",
      "The child <Node (2, 3)> is being pushed to frontier ...\n",
      "The child <Node (1, 4)> is being pushed to frontier ...\n",
      "The child <Node (2, 5)> is being pushed to frontier ...\n",
      "The <Node (1, 4)> is being extracted from frontier ...\n",
      "The child <Node (1, 3)> is being pushed to frontier ...\n",
      "The child <Node (1, 5)> is being pushed to frontier ...\n",
      "The <Node (1, 3)> is being extracted from frontier ...\n",
      "The child <Node (1, 2)> is being pushed to frontier ...\n",
      "The child <Node (0, 3)> is being pushed to frontier ...\n",
      "The <Node (0, 3)> is being extracted from frontier ...\n",
      "The <Node (1, 2)> is being extracted from frontier ...\n",
      "The <Node (1, 5)> is being extracted from frontier ...\n",
      "The child <Node (1, 6)> is being pushed to frontier ...\n",
      "The <Node (1, 6)> is being extracted from frontier ...\n",
      "We have found our goal:  <Node (1, 6)>!\n",
      "Solution (a sequence of actions) from the initial state to a goal: ['right', 'right', 'up', 'right', 'right', 'up', 'up', 'up', 'right', 'right']\n",
      "The Agent in (5, 0) with performance 17\n"
     ]
    }
   ],
   "source": [
    "maze_Env1.add_thing(BFSmazeAgent1)\n",
    "#if it runs X times change a wall to a path"
   ]
  },
  {
   "cell_type": "code",
   "execution_count": 213,
   "id": "7bac0dfe",
   "metadata": {},
   "outputs": [
    {
     "name": "stdout",
     "output_type": "stream",
     "text": [
      "step 1:\n",
      "Agent decided to do right.\n",
      "Agent in (5, 1) with performance = 17\n",
      "step 2:\n",
      "Agent decided to do right.\n",
      "Agent in (5, 2) with performance = 16\n",
      "step 3:\n",
      "Agent decided to do up.\n",
      "Agent in (4, 2) with performance = 15\n",
      "step 4:\n",
      "Agent decided to do right.\n",
      "Agent in (4, 3) with performance = 14\n",
      "step 5:\n",
      "Agent decided to do right.\n",
      "Agent in (4, 4) with performance = 13\n",
      "step 6:\n",
      "Agent decided to do up.\n",
      "Agent in (3, 4) with performance = 12\n",
      "step 7:\n",
      "Agent decided to do up.\n",
      "Agent in (2, 4) with performance = 11\n",
      "step 8:\n",
      "Agent decided to do up.\n",
      "Agent in (1, 4) with performance = 10\n",
      "Agent in (1, 4) is under attack!\n",
      "step 9:\n",
      "Agent decided to do right.\n",
      "Agent in (1, 5) with performance = 9.0\n",
      "step 10:\n",
      "Agent decided to do right.\n",
      "Agent in (1, 6) with performance = 8.0\n",
      "Agent reached all goals\n"
     ]
    }
   ],
   "source": [
    "maze_Env1.run()"
   ]
  },
  {
   "cell_type": "code",
   "execution_count": 214,
   "id": "7d6f1cd0",
   "metadata": {},
   "outputs": [
    {
     "name": "stdout",
     "output_type": "stream",
     "text": [
      "Solution (a sequence of actions) from the initial state to a goal: ['right', 'right', 'up', 'right', 'right', 'up', 'up', 'up', 'right', 'right']\n",
      "The Agent in (5, 0) with performance 17\n"
     ]
    }
   ],
   "source": [
    "maze_Env2.add_thing(DLSAgent1)"
   ]
  },
  {
   "cell_type": "code",
   "execution_count": 215,
   "id": "0c7136e6",
   "metadata": {},
   "outputs": [
    {
     "name": "stdout",
     "output_type": "stream",
     "text": [
      "step 1:\n",
      "Agent decided to do right.\n",
      "Agent in (5, 1) with performance = 17\n",
      "step 2:\n",
      "Agent decided to do right.\n",
      "Agent in (5, 2) with performance = 16\n",
      "step 3:\n",
      "Agent decided to do up.\n",
      "Agent in (4, 2) with performance = 15\n",
      "step 4:\n",
      "Agent decided to do right.\n",
      "Agent in (4, 3) with performance = 14\n",
      "step 5:\n",
      "Agent decided to do right.\n",
      "Agent in (4, 4) with performance = 13\n",
      "step 6:\n",
      "Agent decided to do up.\n",
      "Agent in (3, 4) with performance = 12\n",
      "step 7:\n",
      "Agent decided to do up.\n",
      "Agent in (2, 4) with performance = 11\n",
      "step 8:\n",
      "Agent decided to do up.\n",
      "Agent in (1, 4) with performance = 10\n",
      "Agent in (1, 4) is under attack!\n",
      "step 9:\n",
      "Agent decided to do right.\n",
      "Agent in (1, 5) with performance = 9.0\n",
      "step 10:\n",
      "Agent decided to do right.\n",
      "Agent in (1, 6) with performance = 8.0\n",
      "Agent reached all goals\n"
     ]
    }
   ],
   "source": [
    "maze_Env2.run()"
   ]
  },
  {
   "cell_type": "code",
   "execution_count": 216,
   "id": "c6d8b34a",
   "metadata": {},
   "outputs": [
    {
     "name": "stdout",
     "output_type": "stream",
     "text": [
      "It's a Tie!\n"
     ]
    }
   ],
   "source": [
    "BFSmazeAgent1.performance\n",
    "DLSAgent1.performance\n",
    "\n",
    "#print(BFSAP)\n",
    "#print(DLSAP)\n",
    "\n",
    "if BFSmazeAgent1.performance > DLSAgent1.performance:\n",
    "    print(\"Uniform Cost Search Wins!\")\n",
    "elif DLSAgent1.performance > BFSmazeAgent1.performance:\n",
    "    print(\"Iterative DLS Wins!\")\n",
    "else:\n",
    "    print(\"It's a Tie!\")"
   ]
  },
  {
   "cell_type": "code",
   "execution_count": 217,
   "id": "68c4623a",
   "metadata": {},
   "outputs": [
    {
     "name": "stdout",
     "output_type": "stream",
     "text": [
      "graphMaze1.html\n"
     ]
    }
   ],
   "source": [
    "net_maze.show(\"graphMaze1.html\", notebook=False)"
   ]
  }
 ],
 "metadata": {
  "kernelspec": {
   "display_name": ".venv (3.13.8)",
   "language": "python",
   "name": "python3"
  },
  "language_info": {
   "codemirror_mode": {
    "name": "ipython",
    "version": 3
   },
   "file_extension": ".py",
   "mimetype": "text/x-python",
   "name": "python",
   "nbconvert_exporter": "python",
   "pygments_lexer": "ipython3",
   "version": "3.13.9"
  }
 },
 "nbformat": 4,
 "nbformat_minor": 5
}
