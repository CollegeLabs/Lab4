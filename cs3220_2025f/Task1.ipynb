{
 "cells": [
  {
   "cell_type": "code",
   "execution_count": 1,
   "id": "f42a908d",
   "metadata": {},
   "outputs": [],
   "source": [
    "from src.mazeData import *\n",
    "from src.maze2025GraphClass import mazeGraph\n",
    "from pyvis.network import Network\n",
    "from src.PS_agentPrograms import BestFirstSearchAgentProgram\n",
    "from src.mazeProblemClass import MazeProblem\n",
    "from src.agents import ProblemSolvingMazeAgentBFS\n",
    "from src.naigationEnvironmentClass import MazeNavigationEnvironment"
   ]
  },
  {
   "cell_type": "code",
   "execution_count": 2,
   "id": "4a580bf0",
   "metadata": {},
   "outputs": [],
   "source": [
    "mazeSize=7\n",
    "mainMaze = makeMaze(mazeSize)\n",
    "mazeAvalActs=defineMazeAvailableActions(mainMaze)\n",
    "maze1TM=makeMazeTransformationModel(mazeAvalActs)\n",
    "mazeWorldGraph=mazeGraph(maze1TM, mazeStatesLocations(list(maze1TM.keys())))"
   ]
  },
  {
   "cell_type": "code",
   "execution_count": 3,
   "id": "db2d8f93",
   "metadata": {},
   "outputs": [
    {
     "data": {
      "text/plain": [
       "array([[1, 1, 0, 0, 1, 1, 1],\n",
       "       [1, 0, 1, 1, 1, 1, 1],\n",
       "       [1, 1, 1, 1, 1, 1, 0],\n",
       "       [1, 1, 1, 1, 1, 1, 1],\n",
       "       [1, 1, 0, 1, 1, 1, 1],\n",
       "       [1, 1, 1, 1, 1, 1, 0],\n",
       "       [1, 1, 1, 1, 0, 1, 1]])"
      ]
     },
     "execution_count": 3,
     "metadata": {},
     "output_type": "execute_result"
    }
   ],
   "source": [
    "mainMaze"
   ]
  },
  {
   "cell_type": "code",
   "execution_count": 4,
   "id": "7237ca72",
   "metadata": {},
   "outputs": [
    {
     "data": {
      "text/plain": [
       "{(0, 0): ['right', 'down'],\n",
       " (0, 1): ['left'],\n",
       " (0, 2): [],\n",
       " (0, 3): [],\n",
       " (0, 4): ['right', 'down'],\n",
       " (0, 5): ['left', 'right', 'down'],\n",
       " (0, 6): ['left', 'down'],\n",
       " (1, 0): ['up', 'down'],\n",
       " (1, 1): [],\n",
       " (1, 2): ['right', 'down'],\n",
       " (1, 3): ['left', 'right', 'down'],\n",
       " (1, 4): ['left', 'up', 'right', 'down'],\n",
       " (1, 5): ['left', 'up', 'right', 'down'],\n",
       " (1, 6): ['left', 'up'],\n",
       " (2, 0): ['up', 'right', 'down'],\n",
       " (2, 1): ['left', 'right', 'down'],\n",
       " (2, 2): ['left', 'up', 'right', 'down'],\n",
       " (2, 3): ['left', 'up', 'right', 'down'],\n",
       " (2, 4): ['left', 'up', 'right', 'down'],\n",
       " (2, 5): ['left', 'up', 'down'],\n",
       " (2, 6): [],\n",
       " (3, 0): ['up', 'right', 'down'],\n",
       " (3, 1): ['left', 'up', 'right', 'down'],\n",
       " (3, 2): ['left', 'up', 'right'],\n",
       " (3, 3): ['left', 'up', 'right', 'down'],\n",
       " (3, 4): ['left', 'up', 'right', 'down'],\n",
       " (3, 5): ['left', 'up', 'right', 'down'],\n",
       " (3, 6): ['left', 'down'],\n",
       " (4, 0): ['up', 'right', 'down'],\n",
       " (4, 1): ['left', 'up', 'down'],\n",
       " (4, 2): [],\n",
       " (4, 3): ['up', 'right', 'down'],\n",
       " (4, 4): ['left', 'up', 'right', 'down'],\n",
       " (4, 5): ['left', 'up', 'right', 'down'],\n",
       " (4, 6): ['left', 'up'],\n",
       " (5, 0): ['up', 'right', 'down'],\n",
       " (5, 1): ['left', 'up', 'right', 'down'],\n",
       " (5, 2): ['left', 'right', 'down'],\n",
       " (5, 3): ['left', 'up', 'right', 'down'],\n",
       " (5, 4): ['left', 'up', 'right'],\n",
       " (5, 5): ['left', 'up', 'down'],\n",
       " (5, 6): [],\n",
       " (6, 0): ['up', 'right'],\n",
       " (6, 1): ['left', 'up', 'right'],\n",
       " (6, 2): ['left', 'up', 'right'],\n",
       " (6, 3): ['left', 'up'],\n",
       " (6, 4): [],\n",
       " (6, 5): ['up', 'right'],\n",
       " (6, 6): ['up']}"
      ]
     },
     "execution_count": 4,
     "metadata": {},
     "output_type": "execute_result"
    }
   ],
   "source": [
    "mazeAvalActs"
   ]
  },
  {
   "cell_type": "code",
   "execution_count": 5,
   "id": "8f1eb751",
   "metadata": {},
   "outputs": [],
   "source": [
    "initState = (0,0)\n",
    "goalState = (6,6)"
   ]
  },
  {
   "cell_type": "code",
   "execution_count": 6,
   "id": "2f25bdc8",
   "metadata": {},
   "outputs": [],
   "source": [
    "net_maze = Network(heading=\"Lab 4 Maze\",\n",
    "                bgcolor =\"#242020\",\n",
    "                font_color = \"white\",\n",
    "                height = \"750px\",\n",
    "                width = \"100%\" \n",
    ")\n",
    "nodeColors={\n",
    "    \"wall\":\"red\",\n",
    "    \"path\": \"White\",\n",
    "    \"Goal\": \"Green\",\n",
    "    \"Start\": \"Yellow\"\n",
    "}\n",
    "nodeColorsList=[]\n",
    "\n",
    "for node in mazeWorldGraph.origin.keys():\n",
    "    if mainMaze[node[0],node[1]]==1:\n",
    "        nodeColorsList.append(nodeColors[\"path\"])\n",
    "    else:\n",
    "        nodeColorsList.append(nodeColors[\"wall\"])\n",
    "\n",
    "nodes=[\"-\".join(str(item) for item in el) for el in mazeWorldGraph.origin.keys()]\n",
    "\n",
    "x_coords = []\n",
    "y_coords = []\n",
    "\n",
    "for node in mazeWorldGraph.origin.keys():\n",
    "    x,y=mazeWorldGraph.getLocation(node)\n",
    "    x_coords.append(x)\n",
    "    y_coords.append(y)\n",
    "\n",
    "sizes=[10]*len(nodes)\n",
    "net_maze.add_nodes(nodes, color=nodeColorsList, x=x_coords, y=y_coords, size=sizes, title=nodes)\n",
    "\n",
    "for node in net_maze.nodes:\n",
    "    node['label']=''\n",
    "\n",
    "edge_weights = {(intTupleTostr(k), intTupleTostr(v2)) : k2 for k, v in mazeWorldGraph.origin.items() for k2, v2 in v.items()}\n",
    "\n",
    "edges=[]\n",
    "\n",
    "for node_source in mazeWorldGraph.nodes():\n",
    "    for node_target, action in mazeWorldGraph.get(node_source).items():\n",
    "        #node_target or node_source is a tuple -> convert to str\n",
    "        if (intTupleTostr(node_source),intTupleTostr(node_target)) not in edges and (intTupleTostr(node_target), intTupleTostr(node_source)):\n",
    "            net_maze.add_edge(intTupleTostr(node_source),intTupleTostr(node_target), label=edge_weights[(intTupleTostr(node_source),intTupleTostr(node_target))])\n",
    "            edges.append((intTupleTostr(node_source),intTupleTostr(node_target)))\n",
    "\n",
    "for node in net_maze.nodes:\n",
    "    if node['id']==intTupleTostr(goalState):\n",
    "        node['color']=nodeColors['Goal']\n",
    "    elif node['id']==intTupleTostr(initState):\n",
    "        node['color']=nodeColors['Start']\n"
   ]
  },
  {
   "cell_type": "code",
   "execution_count": 7,
   "id": "5228c962",
   "metadata": {},
   "outputs": [],
   "source": [
    "net_maze.toggle_physics(False)"
   ]
  },
  {
   "cell_type": "code",
   "execution_count": 8,
   "id": "564dfe35",
   "metadata": {},
   "outputs": [],
   "source": [
    "mp1=MazeProblem(initState, goalState, mazeWorldGraph)"
   ]
  },
  {
   "cell_type": "code",
   "execution_count": 9,
   "id": "f4534c50",
   "metadata": {},
   "outputs": [],
   "source": [
    "BFSAgent=BestFirstSearchAgentProgram()"
   ]
  },
  {
   "cell_type": "code",
   "execution_count": 10,
   "id": "388bb563",
   "metadata": {},
   "outputs": [],
   "source": [
    "BFSmazeAgent1=ProblemSolvingMazeAgentBFS(initState, mazeWorldGraph, goalState)"
   ]
  },
  {
   "cell_type": "code",
   "execution_count": 11,
   "id": "bd938633",
   "metadata": {},
   "outputs": [],
   "source": [
    "maze_Env1=MazeNavigationEnvironment(mazeWorldGraph)\n"
   ]
  },
  {
   "cell_type": "code",
   "execution_count": 12,
   "id": "72101646",
   "metadata": {},
   "outputs": [
    {
     "name": "stdout",
     "output_type": "stream",
     "text": [
      "The <Node (0, 0)> is being pushed to frontier ...\n",
      "The <Node (0, 0)> is being extracted from frontier ...\n",
      "The child <Node (0, 1)> is being pushed to frontier ...\n",
      "The child <Node (1, 0)> is being pushed to frontier ...\n",
      "The <Node (0, 1)> is being extracted from frontier ...\n",
      "The <Node (1, 0)> is being extracted from frontier ...\n",
      "The child <Node (2, 0)> is being pushed to frontier ...\n",
      "The <Node (2, 0)> is being extracted from frontier ...\n",
      "The child <Node (2, 1)> is being pushed to frontier ...\n",
      "The child <Node (3, 0)> is being pushed to frontier ...\n",
      "The <Node (2, 1)> is being extracted from frontier ...\n",
      "The child <Node (2, 2)> is being pushed to frontier ...\n",
      "The child <Node (3, 1)> is being pushed to frontier ...\n",
      "The <Node (2, 2)> is being extracted from frontier ...\n",
      "The child <Node (1, 2)> is being pushed to frontier ...\n",
      "The child <Node (2, 3)> is being pushed to frontier ...\n",
      "The child <Node (3, 2)> is being pushed to frontier ...\n",
      "The <Node (1, 2)> is being extracted from frontier ...\n",
      "The child <Node (1, 3)> is being pushed to frontier ...\n",
      "The <Node (1, 3)> is being extracted from frontier ...\n",
      "The child <Node (1, 4)> is being pushed to frontier ...\n",
      "The <Node (1, 4)> is being extracted from frontier ...\n",
      "The child <Node (0, 4)> is being pushed to frontier ...\n",
      "The child <Node (1, 5)> is being pushed to frontier ...\n",
      "The child <Node (2, 4)> is being pushed to frontier ...\n",
      "The <Node (0, 4)> is being extracted from frontier ...\n",
      "The child <Node (0, 5)> is being pushed to frontier ...\n",
      "The <Node (0, 5)> is being extracted from frontier ...\n",
      "The child <Node (0, 6)> is being pushed to frontier ...\n",
      "The <Node (0, 6)> is being extracted from frontier ...\n",
      "The child <Node (1, 6)> is being pushed to frontier ...\n",
      "The <Node (1, 5)> is being extracted from frontier ...\n",
      "The child <Node (1, 6)> is being pushed to frontier ...\n",
      "The child <Node (2, 5)> is being pushed to frontier ...\n",
      "The <Node (1, 6)> is being extracted from frontier ...\n",
      "The <Node (1, 6)> is being extracted from frontier ...\n",
      "The <Node (2, 3)> is being extracted from frontier ...\n",
      "The child <Node (2, 4)> is being pushed to frontier ...\n",
      "The child <Node (3, 3)> is being pushed to frontier ...\n",
      "The <Node (2, 4)> is being extracted from frontier ...\n",
      "The child <Node (3, 4)> is being pushed to frontier ...\n",
      "The <Node (2, 4)> is being extracted from frontier ...\n",
      "The child <Node (2, 5)> is being pushed to frontier ...\n",
      "The child <Node (3, 4)> is being pushed to frontier ...\n",
      "The <Node (2, 5)> is being extracted from frontier ...\n",
      "The child <Node (3, 5)> is being pushed to frontier ...\n",
      "The <Node (2, 5)> is being extracted from frontier ...\n",
      "The child <Node (3, 5)> is being pushed to frontier ...\n",
      "The <Node (3, 0)> is being extracted from frontier ...\n",
      "The child <Node (4, 0)> is being pushed to frontier ...\n",
      "The <Node (3, 1)> is being extracted from frontier ...\n",
      "The child <Node (4, 1)> is being pushed to frontier ...\n",
      "The <Node (3, 2)> is being extracted from frontier ...\n",
      "The <Node (3, 3)> is being extracted from frontier ...\n",
      "The child <Node (4, 3)> is being pushed to frontier ...\n",
      "The <Node (3, 4)> is being extracted from frontier ...\n",
      "The child <Node (4, 4)> is being pushed to frontier ...\n",
      "The <Node (3, 4)> is being extracted from frontier ...\n",
      "The <Node (3, 5)> is being extracted from frontier ...\n",
      "The child <Node (3, 6)> is being pushed to frontier ...\n",
      "The child <Node (4, 5)> is being pushed to frontier ...\n",
      "The <Node (3, 5)> is being extracted from frontier ...\n",
      "The child <Node (3, 6)> is being pushed to frontier ...\n",
      "The child <Node (4, 5)> is being pushed to frontier ...\n",
      "The <Node (3, 6)> is being extracted from frontier ...\n",
      "The child <Node (4, 6)> is being pushed to frontier ...\n",
      "The <Node (3, 6)> is being extracted from frontier ...\n",
      "The child <Node (4, 6)> is being pushed to frontier ...\n",
      "The <Node (4, 0)> is being extracted from frontier ...\n",
      "The child <Node (5, 0)> is being pushed to frontier ...\n",
      "The <Node (4, 1)> is being extracted from frontier ...\n",
      "The child <Node (5, 1)> is being pushed to frontier ...\n",
      "The <Node (4, 3)> is being extracted from frontier ...\n",
      "The child <Node (5, 3)> is being pushed to frontier ...\n",
      "The <Node (4, 4)> is being extracted from frontier ...\n",
      "The child <Node (5, 4)> is being pushed to frontier ...\n",
      "The <Node (4, 5)> is being extracted from frontier ...\n",
      "The child <Node (5, 5)> is being pushed to frontier ...\n",
      "The <Node (4, 5)> is being extracted from frontier ...\n",
      "The <Node (4, 6)> is being extracted from frontier ...\n",
      "The <Node (4, 6)> is being extracted from frontier ...\n",
      "The <Node (5, 0)> is being extracted from frontier ...\n",
      "The child <Node (6, 0)> is being pushed to frontier ...\n",
      "The <Node (5, 1)> is being extracted from frontier ...\n",
      "The child <Node (5, 2)> is being pushed to frontier ...\n",
      "The child <Node (6, 1)> is being pushed to frontier ...\n",
      "The <Node (5, 2)> is being extracted from frontier ...\n",
      "The child <Node (6, 2)> is being pushed to frontier ...\n",
      "The <Node (5, 3)> is being extracted from frontier ...\n",
      "The child <Node (6, 3)> is being pushed to frontier ...\n",
      "The <Node (5, 4)> is being extracted from frontier ...\n",
      "The <Node (5, 5)> is being extracted from frontier ...\n",
      "The child <Node (6, 5)> is being pushed to frontier ...\n",
      "The <Node (6, 0)> is being extracted from frontier ...\n",
      "The <Node (6, 1)> is being extracted from frontier ...\n",
      "The <Node (6, 2)> is being extracted from frontier ...\n",
      "The <Node (6, 3)> is being extracted from frontier ...\n",
      "The <Node (6, 5)> is being extracted from frontier ...\n",
      "The child <Node (6, 6)> is being pushed to frontier ...\n",
      "The <Node (6, 6)> is being extracted from frontier ...\n",
      "We have found our goal:  <Node (6, 6)>!\n",
      "Solution (a sequence of actions) from the initial state to a goal: ['down', 'down', 'right', 'right', 'right', 'right', 'right', 'down', 'down', 'down', 'down', 'right']\n",
      "The Agent in (0, 0) with performance 42\n"
     ]
    }
   ],
   "source": [
    "maze_Env1.add_thing(BFSmazeAgent1)"
   ]
  },
  {
   "cell_type": "code",
   "execution_count": 13,
   "id": "7bac0dfe",
   "metadata": {},
   "outputs": [
    {
     "name": "stdout",
     "output_type": "stream",
     "text": [
      "step 1:\n",
      "Agent decided to do down.\n",
      "Agent in down with performance = 41\n",
      "step 2:\n",
      "Agent decided to do down.\n",
      "Agent in down with performance = 40\n",
      "step 3:\n",
      "Agent decided to do right.\n",
      "Agent in right with performance = 39\n",
      "step 4:\n",
      "Agent decided to do right.\n",
      "Agent in right with performance = 38\n",
      "step 5:\n",
      "Agent decided to do right.\n",
      "Agent in right with performance = 37\n",
      "step 6:\n",
      "Agent decided to do right.\n",
      "Agent in right with performance = 36\n",
      "step 7:\n",
      "Agent decided to do right.\n",
      "Agent in right with performance = 35\n",
      "step 8:\n",
      "Agent decided to do down.\n",
      "Agent in down with performance = 34\n",
      "step 9:\n",
      "Agent decided to do down.\n",
      "Agent in down with performance = 33\n",
      "step 10:\n",
      "Agent decided to do down.\n",
      "Agent in down with performance = 32\n"
     ]
    }
   ],
   "source": [
    "maze_Env1.run()"
   ]
  },
  {
   "cell_type": "code",
   "execution_count": 14,
   "id": "68c4623a",
   "metadata": {},
   "outputs": [],
   "source": [
    "#net_maze.show(\"graphMaze1.html\", notebook=False)"
   ]
  }
 ],
 "metadata": {
  "kernelspec": {
   "display_name": ".venv (3.13.8)",
   "language": "python",
   "name": "python3"
  },
  "language_info": {
   "codemirror_mode": {
    "name": "ipython",
    "version": 3
   },
   "file_extension": ".py",
   "mimetype": "text/x-python",
   "name": "python",
   "nbconvert_exporter": "python",
   "pygments_lexer": "ipython3",
   "version": "3.13.9"
  }
 },
 "nbformat": 4,
 "nbformat_minor": 5
}
