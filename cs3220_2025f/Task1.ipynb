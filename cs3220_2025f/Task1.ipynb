{
 "cells": [
  {
   "cell_type": "code",
   "execution_count": 1,
   "id": "f42a908d",
   "metadata": {},
   "outputs": [],
   "source": [
    "from src.mazeData import *\n",
    "from src.maze2025GraphClass import mazeGraph\n",
    "from pyvis.network import Network\n",
    "from src.PS_agentPrograms import *\n",
    "from src.mazeProblemClass import MazeProblem\n",
    "from src.agents import *\n",
    "from src.naigationEnvironmentClass import MazeNavigationEnvironment\n",
    "from src.Lab4Environment import *\n",
    "import streamlit as st"
   ]
  },
  {
   "cell_type": "code",
   "execution_count": 2,
   "id": "4a580bf0",
   "metadata": {},
   "outputs": [],
   "source": [
    "def makeMaze(n):\n",
    "  size = (n,n)\n",
    "  proba_0 =0.25 # resulting array will have 25%? of zeros\n",
    "  proba_Enemy =0.1 # resulting array will have 10%? of enemy\n",
    "  arrMaze=np.random.choice([0, 1, 2], size=size, p=[proba_0, 1-proba_0-proba_Enemy, proba_Enemy] )\n",
    "  return arrMaze\n",
    "\n",
    "initState = (random.randint(0,6),random.randint(0,6))\n",
    "goalState = (random.randint(0,6),random.randint(0,6))\n",
    "\n",
    "mazeSize=7\n",
    "mainMaze = makeMaze(mazeSize)\n",
    "MazeCheck(mainMaze,initState,goalState)\n",
    "mazeAvalActs=defineMazeAvailableActions(mainMaze)\n",
    "maze1TM=makeMazeTransformationModel(mazeAvalActs)\n",
    "mazeWorldGraph=mazeGraph(maze1TM, mazeStatesLocations(list(maze1TM.keys())))"
   ]
  },
  {
   "cell_type": "code",
   "execution_count": 3,
   "id": "db2d8f93",
   "metadata": {},
   "outputs": [
    {
     "data": {
      "text/plain": [
       "array([[1, 0, 1, 0, 1, 1, 1],\n",
       "       [1, 1, 1, 1, 0, 1, 1],\n",
       "       [0, 1, 2, 2, 0, 2, 0],\n",
       "       [2, 1, 1, 0, 2, 1, 0],\n",
       "       [1, 1, 0, 1, 0, 1, 1],\n",
       "       [1, 1, 1, 1, 0, 1, 1],\n",
       "       [0, 1, 1, 0, 0, 1, 2]])"
      ]
     },
     "execution_count": 3,
     "metadata": {},
     "output_type": "execute_result"
    }
   ],
   "source": [
    "mainMaze"
   ]
  },
  {
   "cell_type": "code",
   "execution_count": 4,
   "id": "2f25bdc8",
   "metadata": {},
   "outputs": [],
   "source": [
    "net_maze = Network(heading=\"Lab 4 Maze\",\n",
    "                bgcolor =\"#242020\",\n",
    "                font_color = \"white\",\n",
    "                height = \"750px\",\n",
    "                width = \"100%\" \n",
    ")\n",
    "nodeColors={\n",
    "    \"wall\":\"red\",\n",
    "    \"path\": \"White\",\n",
    "    \"Goal\": \"Green\",\n",
    "    \"Start\": \"Yellow\",\n",
    "    \"Enemy\": \"Orange\"\n",
    "}\n",
    "nodeColorsList=[]\n",
    "\n",
    "for node in mazeWorldGraph.origin.keys():\n",
    "    if mainMaze[node[0],node[1]]==1:\n",
    "        nodeColorsList.append(nodeColors[\"path\"])\n",
    "    elif mainMaze[node[0],node[1]]==0:\n",
    "        nodeColorsList.append(nodeColors[\"wall\"])\n",
    "    else:\n",
    "        nodeColorsList.append(nodeColors[\"Enemy\"])\n",
    "\n",
    "nodes=[\"-\".join(str(item) for item in el) for el in mazeWorldGraph.origin.keys()]\n",
    "\n",
    "x_coords = []\n",
    "y_coords = []\n",
    "\n",
    "for node in mazeWorldGraph.origin.keys():\n",
    "    x,y=mazeWorldGraph.getLocation(node)\n",
    "    x_coords.append(x)\n",
    "    y_coords.append(y)\n",
    "\n",
    "sizes=[10]*len(nodes)\n",
    "net_maze.add_nodes(nodes, color=nodeColorsList, x=x_coords, y=y_coords, size=sizes, title=nodes)\n",
    "\n",
    "for node in net_maze.nodes:\n",
    "    node['label']=''\n",
    "\n",
    "edge_weights = {(intTupleTostr(k), intTupleTostr(v2)) : k2 for k, v in mazeWorldGraph.origin.items() for k2, v2 in v.items()}\n",
    "\n",
    "edges=[]\n",
    "\n",
    "for node_source in mazeWorldGraph.nodes():\n",
    "    for node_target, action in mazeWorldGraph.get(node_source).items():\n",
    "        #node_target or node_source is a tuple -> convert to str\n",
    "        if (intTupleTostr(node_source),intTupleTostr(node_target)) not in edges and (intTupleTostr(node_target), intTupleTostr(node_source)):\n",
    "            net_maze.add_edge(intTupleTostr(node_source),intTupleTostr(node_target), label=edge_weights[(intTupleTostr(node_source),intTupleTostr(node_target))])\n",
    "            edges.append((intTupleTostr(node_source),intTupleTostr(node_target)))\n",
    "\n",
    "for node in net_maze.nodes:\n",
    "    if node['id']==intTupleTostr(goalState):\n",
    "        node['color']=nodeColors['Goal']\n",
    "    elif node['id']==intTupleTostr(initState):\n",
    "        node['color']=nodeColors['Start']\n"
   ]
  },
  {
   "cell_type": "code",
   "execution_count": 5,
   "id": "5228c962",
   "metadata": {},
   "outputs": [],
   "source": [
    "net_maze.toggle_physics(False)"
   ]
  },
  {
   "cell_type": "code",
   "execution_count": 6,
   "id": "564dfe35",
   "metadata": {},
   "outputs": [],
   "source": [
    "mp1=MazeProblem(initState, goalState, mazeWorldGraph)"
   ]
  },
  {
   "cell_type": "code",
   "execution_count": 7,
   "id": "f4534c50",
   "metadata": {},
   "outputs": [],
   "source": [
    "BFSAgent=BestFirstSearchAgentProgram()\n",
    "DLS=IDSearchAgentProgram()"
   ]
  },
  {
   "cell_type": "code",
   "execution_count": 8,
   "id": "388bb563",
   "metadata": {},
   "outputs": [],
   "source": [
    "BFSmazeAgent1=ProblemSolvingMazeAgentBFS(initState, mazeWorldGraph, goalState)\n",
    "DLSAgent1=ProblemSolvingMazeAgentIDS(initState, mazeWorldGraph, goalState)"
   ]
  },
  {
   "cell_type": "code",
   "execution_count": 9,
   "id": "bd938633",
   "metadata": {},
   "outputs": [],
   "source": [
    "#maze_Env1=Lab4NavEnvironment(mazeWorldGraph)\n",
    "\n",
    "maze_Env1=MazeNavigationEnvironment(mazeWorldGraph, mainMaze)\n",
    "#maze_Env2=MazeNavigationEnvironment(mazeWorldGraph, mainMaze)"
   ]
  },
  {
   "cell_type": "code",
   "execution_count": 10,
   "id": "72101646",
   "metadata": {},
   "outputs": [
    {
     "name": "stdout",
     "output_type": "stream",
     "text": [
      "The <Node (1, 6)> is being pushed to frontier ...\n",
      "The <Node (1, 6)> is being extracted from frontier ...\n",
      "The child <Node (1, 5)> is being pushed to frontier ...\n",
      "The child <Node (0, 6)> is being pushed to frontier ...\n",
      "The <Node (0, 6)> is being extracted from frontier ...\n",
      "The child <Node (0, 5)> is being pushed to frontier ...\n",
      "The <Node (0, 5)> is being extracted from frontier ...\n",
      "The child <Node (0, 4)> is being pushed to frontier ...\n",
      "The <Node (0, 4)> is being extracted from frontier ...\n",
      "The <Node (1, 5)> is being extracted from frontier ...\n",
      "The child <Node (2, 5)> is being pushed to frontier ...\n",
      "The <Node (2, 5)> is being extracted from frontier ...\n",
      "The child <Node (3, 5)> is being pushed to frontier ...\n",
      "The <Node (3, 5)> is being extracted from frontier ...\n",
      "We have found our goal:  <Node (3, 5)>!\n",
      "Solution (a sequence of actions) from the initial state to a goal: ['left', 'down', 'down']\n",
      "The Agent in (1, 6) with performance 17\n"
     ]
    }
   ],
   "source": [
    "maze_Env1.add_thing(BFSmazeAgent1)\n",
    "#if it runs X times change a wall to a path"
   ]
  },
  {
   "cell_type": "code",
   "execution_count": 11,
   "id": "b8f58eb6",
   "metadata": {},
   "outputs": [
    {
     "name": "stdout",
     "output_type": "stream",
     "text": [
      "Solution (a sequence of actions) from the initial state to a goal: ['left', 'down', 'down']\n",
      "The Agent in (1, 6) with performance 17\n"
     ]
    }
   ],
   "source": [
    "maze_Env1.add_thing(DLSAgent1)"
   ]
  },
  {
   "cell_type": "code",
   "execution_count": 12,
   "id": "7bac0dfe",
   "metadata": {},
   "outputs": [
    {
     "name": "stdout",
     "output_type": "stream",
     "text": [
      "step 1:\n",
      "Agent decided to do left.\n",
      "Agent decided to do left.\n",
      "Agent in (1, 5) with performance = 17\n",
      "Agent in (1, 5) with performance = 17\n",
      "step 2:\n",
      "Agent decided to do down.\n",
      "Agent decided to do down.\n",
      "Agent in (2, 5) with performance = 16\n",
      "Agent in (2, 5) is under attack!\n",
      "Agent in (2, 5) with performance = 16\n",
      "Agent in (2, 5) is under attack!\n",
      "step 3:\n",
      "Agent decided to do down.\n",
      "Agent decided to do down.\n",
      "Agent in (3, 5) with performance = 14.4\n",
      "Agent reached all goals\n",
      "Agent in (3, 5) with performance = 14.4\n",
      "Agent reached all goals\n"
     ]
    }
   ],
   "source": [
    "maze_Env1.run()"
   ]
  },
  {
   "cell_type": "code",
   "execution_count": 13,
   "id": "7d6f1cd0",
   "metadata": {},
   "outputs": [],
   "source": [
    "#maze_Env2.add_thing(DLSAgent1)"
   ]
  },
  {
   "cell_type": "code",
   "execution_count": 14,
   "id": "0c7136e6",
   "metadata": {},
   "outputs": [],
   "source": [
    "#maze_Env2.run()"
   ]
  },
  {
   "cell_type": "code",
   "execution_count": 15,
   "id": "c6d8b34a",
   "metadata": {},
   "outputs": [
    {
     "name": "stdout",
     "output_type": "stream",
     "text": [
      "It's a Tie!\n"
     ]
    }
   ],
   "source": [
    "if BFSmazeAgent1.performance > DLSAgent1.performance:\n",
    "    print(\"Uniform Cost Search Wins!\")\n",
    "elif DLSAgent1.performance > BFSmazeAgent1.performance:\n",
    "    print(\"Iterative DLS Wins!\")\n",
    "else:\n",
    "    print(\"It's a Tie!\")"
   ]
  },
  {
   "cell_type": "code",
   "execution_count": 16,
   "id": "68c4623a",
   "metadata": {},
   "outputs": [
    {
     "name": "stdout",
     "output_type": "stream",
     "text": [
      "graphMaze1.html\n"
     ]
    }
   ],
   "source": [
    "net_maze.show(\"graphMaze1.html\", notebook=False)"
   ]
  }
 ],
 "metadata": {
  "kernelspec": {
   "display_name": ".venv (3.13.8)",
   "language": "python",
   "name": "python3"
  },
  "language_info": {
   "codemirror_mode": {
    "name": "ipython",
    "version": 3
   },
   "file_extension": ".py",
   "mimetype": "text/x-python",
   "name": "python",
   "nbconvert_exporter": "python",
   "pygments_lexer": "ipython3",
   "version": "3.13.9"
  }
 },
 "nbformat": 4,
 "nbformat_minor": 5
}
