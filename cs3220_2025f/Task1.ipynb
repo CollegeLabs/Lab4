{
 "cells": [
  {
   "cell_type": "code",
   "execution_count": null,
   "id": "f42a908d",
   "metadata": {},
   "outputs": [],
   "source": [
    "from src.mazeData import *\n",
    "from src.maze2025GraphClass import mazeGraph\n",
    "from pyvis.network import Network\n",
    "from src.PS_agentPrograms import BestFirstSearchAgentProgram\n",
    "from src.mazeProblemClass import MazeProblem\n",
    "from src.agents import ProblemSolvingMazeAgentBFS\n",
    "from src.naigationEnvironmentClass import MazeNavigationEnvironment\n",
    "from src.Lab4Environment import *"
   ]
  },
  {
   "cell_type": "code",
   "execution_count": null,
   "id": "4a580bf0",
   "metadata": {},
   "outputs": [],
   "source": [
    "def makeMaze(n):\n",
    "  size = (n,n)\n",
    "  proba_0 =0.25 # resulting array will have 25%? of zeros\n",
    "  proba_Enemy =0.1 # resulting array will have 10%? of enemy\n",
    "  arrMaze=np.random.choice([0, 1, 2], size=size, p=[proba_0, 1-proba_0-proba_Enemy, proba_Enemy] )\n",
    "  return arrMaze\n",
    "\n",
    "initState = (0,0)\n",
    "goalState = (6,6)\n",
    "\n",
    "mazeSize=7\n",
    "mainMaze = makeMaze(mazeSize)\n",
    "MazeCheck(mainMaze,initState,goalState)\n",
    "mazeAvalActs=defineMazeAvailableActions(mainMaze)\n",
    "maze1TM=makeMazeTransformationModel(mazeAvalActs)\n",
    "mazeWorldGraph=mazeGraph(maze1TM, mazeStatesLocations(list(maze1TM.keys())))"
   ]
  },
  {
   "cell_type": "code",
   "execution_count": null,
   "id": "db2d8f93",
   "metadata": {},
   "outputs": [],
   "source": [
    "mainMaze"
   ]
  },
  {
   "cell_type": "code",
   "execution_count": null,
   "id": "7237ca72",
   "metadata": {},
   "outputs": [],
   "source": [
    "mazeAvalActs"
   ]
  },
  {
   "cell_type": "code",
   "execution_count": null,
   "id": "2f25bdc8",
   "metadata": {},
   "outputs": [],
   "source": [
    "net_maze = Network(heading=\"Lab 4 Maze\",\n",
    "                bgcolor =\"#242020\",\n",
    "                font_color = \"white\",\n",
    "                height = \"750px\",\n",
    "                width = \"100%\" \n",
    ")\n",
    "nodeColors={\n",
    "    \"wall\":\"red\",\n",
    "    \"path\": \"White\",\n",
    "    \"Goal\": \"Green\",\n",
    "    \"Start\": \"Yellow\"\n",
    "}\n",
    "nodeColorsList=[]\n",
    "\n",
    "for node in mazeWorldGraph.origin.keys():\n",
    "    if mainMaze[node[0],node[1]]==1:\n",
    "        nodeColorsList.append(nodeColors[\"path\"])\n",
    "    else:\n",
    "        nodeColorsList.append(nodeColors[\"wall\"])\n",
    "\n",
    "nodes=[\"-\".join(str(item) for item in el) for el in mazeWorldGraph.origin.keys()]\n",
    "\n",
    "x_coords = []\n",
    "y_coords = []\n",
    "\n",
    "for node in mazeWorldGraph.origin.keys():\n",
    "    x,y=mazeWorldGraph.getLocation(node)\n",
    "    x_coords.append(x)\n",
    "    y_coords.append(y)\n",
    "\n",
    "sizes=[10]*len(nodes)\n",
    "net_maze.add_nodes(nodes, color=nodeColorsList, x=x_coords, y=y_coords, size=sizes, title=nodes)\n",
    "\n",
    "for node in net_maze.nodes:\n",
    "    node['label']=''\n",
    "\n",
    "edge_weights = {(intTupleTostr(k), intTupleTostr(v2)) : k2 for k, v in mazeWorldGraph.origin.items() for k2, v2 in v.items()}\n",
    "\n",
    "edges=[]\n",
    "\n",
    "for node_source in mazeWorldGraph.nodes():\n",
    "    for node_target, action in mazeWorldGraph.get(node_source).items():\n",
    "        #node_target or node_source is a tuple -> convert to str\n",
    "        if (intTupleTostr(node_source),intTupleTostr(node_target)) not in edges and (intTupleTostr(node_target), intTupleTostr(node_source)):\n",
    "            net_maze.add_edge(intTupleTostr(node_source),intTupleTostr(node_target), label=edge_weights[(intTupleTostr(node_source),intTupleTostr(node_target))])\n",
    "            edges.append((intTupleTostr(node_source),intTupleTostr(node_target)))\n",
    "\n",
    "for node in net_maze.nodes:\n",
    "    if node['id']==intTupleTostr(goalState):\n",
    "        node['color']=nodeColors['Goal']\n",
    "    elif node['id']==intTupleTostr(initState):\n",
    "        node['color']=nodeColors['Start']\n"
   ]
  },
  {
   "cell_type": "code",
   "execution_count": null,
   "id": "5228c962",
   "metadata": {},
   "outputs": [],
   "source": [
    "net_maze.toggle_physics(False)"
   ]
  },
  {
   "cell_type": "code",
   "execution_count": null,
   "id": "564dfe35",
   "metadata": {},
   "outputs": [],
   "source": [
    "mp1=MazeProblem(initState, goalState, mazeWorldGraph)"
   ]
  },
  {
   "cell_type": "code",
   "execution_count": null,
   "id": "f4534c50",
   "metadata": {},
   "outputs": [],
   "source": [
    "BFSAgent=BestFirstSearchAgentProgram()"
   ]
  },
  {
   "cell_type": "code",
   "execution_count": null,
   "id": "388bb563",
   "metadata": {},
   "outputs": [],
   "source": [
    "BFSmazeAgent1=ProblemSolvingMazeAgentBFS(initState, mazeWorldGraph, goalState)"
   ]
  },
  {
   "cell_type": "code",
   "execution_count": null,
   "id": "bd938633",
   "metadata": {},
   "outputs": [],
   "source": [
    "maze_Env1=Lab4NavEnvironment(mazeWorldGraph, mainMaze)\n"
   ]
  },
  {
   "cell_type": "code",
   "execution_count": null,
   "id": "72101646",
   "metadata": {},
   "outputs": [],
   "source": [
    "maze_Env1.add_thing(BFSmazeAgent1)"
   ]
  },
  {
   "cell_type": "code",
   "execution_count": null,
   "id": "7bac0dfe",
   "metadata": {},
   "outputs": [],
   "source": [
    "maze_Env1.run()"
   ]
  },
  {
   "cell_type": "code",
   "execution_count": null,
   "id": "68c4623a",
   "metadata": {},
   "outputs": [],
   "source": [
    "#net_maze.show(\"graphMaze1.html\", notebook=False)"
   ]
  }
 ],
 "metadata": {
  "kernelspec": {
   "display_name": ".venv (3.13.8)",
   "language": "python",
   "name": "python3"
  },
  "language_info": {
   "codemirror_mode": {
    "name": "ipython",
    "version": 3
   },
   "file_extension": ".py",
   "mimetype": "text/x-python",
   "name": "python",
   "nbconvert_exporter": "python",
   "pygments_lexer": "ipython3",
   "version": "3.13.9"
  }
 },
 "nbformat": 4,
 "nbformat_minor": 5
}
