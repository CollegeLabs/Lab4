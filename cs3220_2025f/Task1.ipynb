{
 "cells": [
  {
   "cell_type": "code",
   "execution_count": 2,
   "id": "f42a908d",
   "metadata": {},
   "outputs": [],
   "source": [
    "from src.mazeData import *\n",
    "from src.maze2025GraphClass import mazeGraph\n",
    "from pyvis.network import Network\n",
    "from src.PS_agentPrograms import BestFirstSearchAgentProgram\n",
    "from src.mazeProblemClass import MazeProblem\n",
    "from src.agents import ProblemSolvingMazeAgentBFS\n",
    "from src.naigationEnvironmentClass import MazeNavigationEnvironment\n",
    "from src.Lab4Environment import *"
   ]
  },
  {
   "cell_type": "code",
   "execution_count": 4,
   "id": "4a580bf0",
   "metadata": {},
   "outputs": [
    {
     "data": {
      "text/plain": [
       "{(0, 0): {'right': (1, 0)},\n",
       " (0, 1): {'left': (0, 0), 'down': (1, 1)},\n",
       " (0, 2): {},\n",
       " (0, 3): {'right': (4, 0), 'down': (3, 1)},\n",
       " (0, 4): {'left': (3, 0), 'down': (4, 1)},\n",
       " (0, 5): {},\n",
       " (0, 6): {},\n",
       " (1, 0): {},\n",
       " (1, 1): {'up': (1, 0), 'right': (2, 1), 'down': (1, 2)},\n",
       " (1, 2): {'left': (1, 1), 'right': (3, 1), 'down': (2, 2)},\n",
       " (1, 3): {'left': (2, 1), 'up': (3, 0), 'right': (4, 1), 'down': (3, 2)},\n",
       " (1, 4): {'left': (3, 1), 'up': (4, 0), 'right': (5, 1), 'down': (4, 2)},\n",
       " (1, 5): {'left': (4, 1), 'right': (6, 1)},\n",
       " (1, 6): {'left': (5, 1), 'down': (6, 2)},\n",
       " (2, 0): {},\n",
       " (2, 1): {'up': (1, 1), 'right': (2, 2), 'down': (1, 3)},\n",
       " (2, 2): {'left': (1, 2), 'up': (2, 1), 'right': (3, 2), 'down': (2, 3)},\n",
       " (2, 3): {'left': (2, 2), 'up': (3, 1), 'right': (4, 2)},\n",
       " (2, 4): {'left': (3, 2), 'up': (4, 1)},\n",
       " (2, 5): {},\n",
       " (2, 6): {'up': (6, 1), 'down': (6, 3)},\n",
       " (3, 0): {},\n",
       " (3, 1): {'up': (1, 2), 'right': (2, 3)},\n",
       " (3, 2): {'left': (1, 3), 'up': (2, 2), 'down': (2, 4)},\n",
       " (3, 3): {},\n",
       " (3, 4): {},\n",
       " (3, 5): {'right': (6, 3)},\n",
       " (3, 6): {'left': (5, 3), 'up': (6, 2)},\n",
       " (4, 0): {'down': (0, 5)},\n",
       " (4, 1): {},\n",
       " (4, 2): {'up': (2, 3), 'right': (3, 4), 'down': (2, 5)},\n",
       " (4, 3): {'left': (2, 4), 'down': (3, 5)},\n",
       " (4, 4): {},\n",
       " (4, 5): {},\n",
       " (4, 6): {},\n",
       " (5, 0): {'up': (0, 4), 'right': (1, 5), 'down': (0, 6)},\n",
       " (5, 1): {'left': (0, 5), 'right': (2, 5), 'down': (1, 6)},\n",
       " (5, 2): {'left': (1, 5), 'up': (2, 4), 'right': (3, 5), 'down': (2, 6)},\n",
       " (5, 3): {'left': (2, 5), 'up': (3, 4), 'right': (4, 5)},\n",
       " (5, 4): {'left': (3, 5), 'right': (5, 5), 'down': (4, 6)},\n",
       " (5, 5): {'left': (4, 5), 'down': (5, 6)},\n",
       " (5, 6): {},\n",
       " (6, 0): {'up': (0, 5), 'right': (1, 6)},\n",
       " (6, 1): {'left': (0, 6), 'up': (1, 5), 'right': (2, 6)},\n",
       " (6, 2): {'left': (1, 6), 'up': (2, 5)},\n",
       " (6, 3): {},\n",
       " (6, 4): {'up': (4, 5), 'right': (5, 6)},\n",
       " (6, 5): {'left': (4, 6), 'up': (5, 5), 'right': (6, 6)},\n",
       " (6, 6): {'up': (6, 5)}}"
      ]
     },
     "execution_count": 4,
     "metadata": {},
     "output_type": "execute_result"
    }
   ],
   "source": [
    "def makeMaze(n):\n",
    "  size = (n,n)\n",
    "  proba_0 =0.25 # resulting array will have 25%? of zeros\n",
    "  proba_Enemy =0.1 # resulting array will have 10%? of enemy\n",
    "  arrMaze=np.random.choice([0, 1, 2], size=size, p=[proba_0, 1-proba_0-proba_Enemy, proba_Enemy] )\n",
    "  return arrMaze\n",
    "\n",
    "initState = (0,0)\n",
    "goalState = (6,6)\n",
    "\n",
    "mazeSize=7\n",
    "mainMaze = makeMaze(mazeSize)\n",
    "MazeCheck(mainMaze,initState,goalState)\n",
    "mazeAvalActs=defineMazeAvailableActions(mainMaze)\n",
    "maze1TM=makeMazeTransformationModel(mazeAvalActs)\n",
    "mazeWorldGraph=mazeGraph(maze1TM, mazeStatesLocations(list(maze1TM.keys())))\n",
    "\n",
    "maze1TM"
   ]
  },
  {
   "cell_type": "code",
   "execution_count": null,
   "id": "db2d8f93",
   "metadata": {},
   "outputs": [],
   "source": [
    "mainMaze"
   ]
  },
  {
   "cell_type": "code",
   "execution_count": null,
   "id": "905585d4",
   "metadata": {},
   "outputs": [],
   "source": [
    "maze1TM"
   ]
  },
  {
   "cell_type": "code",
   "execution_count": null,
   "id": "7237ca72",
   "metadata": {},
   "outputs": [],
   "source": [
    "mazeAvalActs"
   ]
  },
  {
   "cell_type": "code",
   "execution_count": null,
   "id": "2f25bdc8",
   "metadata": {},
   "outputs": [],
   "source": [
    "net_maze = Network(heading=\"Lab 4 Maze\",\n",
    "                bgcolor =\"#242020\",\n",
    "                font_color = \"white\",\n",
    "                height = \"750px\",\n",
    "                width = \"100%\" \n",
    ")\n",
    "nodeColors={\n",
    "    \"wall\":\"red\",\n",
    "    \"path\": \"White\",\n",
    "    \"Goal\": \"Green\",\n",
    "    \"Start\": \"Yellow\",\n",
    "    \"Enemy\": \"Orange\"\n",
    "}\n",
    "nodeColorsList=[]\n",
    "\n",
    "for node in mazeWorldGraph.origin.keys():\n",
    "    if mainMaze[node[0],node[1]]==1:\n",
    "        nodeColorsList.append(nodeColors[\"path\"])\n",
    "    elif mainMaze[node[0],node[1]]==0:\n",
    "        nodeColorsList.append(nodeColors[\"wall\"])\n",
    "    else:\n",
    "        nodeColorsList.append(nodeColors[\"Enemy\"])\n",
    "\n",
    "nodes=[\"-\".join(str(item) for item in el) for el in mazeWorldGraph.origin.keys()]\n",
    "\n",
    "x_coords = []\n",
    "y_coords = []\n",
    "\n",
    "for node in mazeWorldGraph.origin.keys():\n",
    "    x,y=mazeWorldGraph.getLocation(node)\n",
    "    x_coords.append(x)\n",
    "    y_coords.append(y)\n",
    "\n",
    "sizes=[10]*len(nodes)\n",
    "net_maze.add_nodes(nodes, color=nodeColorsList, x=x_coords, y=y_coords, size=sizes, title=nodes)\n",
    "\n",
    "for node in net_maze.nodes:\n",
    "    node['label']=''\n",
    "\n",
    "edge_weights = {(intTupleTostr(k), intTupleTostr(v2)) : k2 for k, v in mazeWorldGraph.origin.items() for k2, v2 in v.items()}\n",
    "\n",
    "edges=[]\n",
    "\n",
    "for node_source in mazeWorldGraph.nodes():\n",
    "    for node_target, action in mazeWorldGraph.get(node_source).items():\n",
    "        #node_target or node_source is a tuple -> convert to str\n",
    "        if (intTupleTostr(node_source),intTupleTostr(node_target)) not in edges and (intTupleTostr(node_target), intTupleTostr(node_source)):\n",
    "            net_maze.add_edge(intTupleTostr(node_source),intTupleTostr(node_target), label=edge_weights[(intTupleTostr(node_source),intTupleTostr(node_target))])\n",
    "            edges.append((intTupleTostr(node_source),intTupleTostr(node_target)))\n",
    "\n",
    "for node in net_maze.nodes:\n",
    "    if node['id']==intTupleTostr(goalState):\n",
    "        node['color']=nodeColors['Goal']\n",
    "    elif node['id']==intTupleTostr(initState):\n",
    "        node['color']=nodeColors['Start']\n"
   ]
  },
  {
   "cell_type": "code",
   "execution_count": null,
   "id": "5228c962",
   "metadata": {},
   "outputs": [],
   "source": [
    "net_maze.toggle_physics(False)"
   ]
  },
  {
   "cell_type": "code",
   "execution_count": null,
   "id": "564dfe35",
   "metadata": {},
   "outputs": [],
   "source": [
    "mp1=MazeProblem(initState, goalState, mazeWorldGraph)"
   ]
  },
  {
   "cell_type": "code",
   "execution_count": null,
   "id": "f4534c50",
   "metadata": {},
   "outputs": [],
   "source": [
    "BFSAgent=BestFirstSearchAgentProgram()"
   ]
  },
  {
   "cell_type": "code",
   "execution_count": null,
   "id": "388bb563",
   "metadata": {},
   "outputs": [],
   "source": [
    "BFSmazeAgent1=ProblemSolvingMazeAgentBFS(initState, mazeWorldGraph, goalState)"
   ]
  },
  {
   "cell_type": "code",
   "execution_count": null,
   "id": "bd938633",
   "metadata": {},
   "outputs": [],
   "source": [
    "#maze_Env1=Lab4NavEnvironment(mazeWorldGraph)\n",
    "\n",
    "maze_Env1=MazeNavigationEnvironment(mazeWorldGraph)"
   ]
  },
  {
   "cell_type": "code",
   "execution_count": null,
   "id": "72101646",
   "metadata": {},
   "outputs": [],
   "source": [
    "maze_Env1.add_thing(BFSmazeAgent1)\n",
    "#if it runs X times change a wall to a path"
   ]
  },
  {
   "cell_type": "code",
   "execution_count": null,
   "id": "7bac0dfe",
   "metadata": {},
   "outputs": [],
   "source": [
    "maze_Env1.run()"
   ]
  },
  {
   "cell_type": "code",
   "execution_count": null,
   "id": "68c4623a",
   "metadata": {},
   "outputs": [],
   "source": [
    "net_maze.show(\"graphMaze1.html\", notebook=False)"
   ]
  }
 ],
 "metadata": {
  "kernelspec": {
   "display_name": ".venv (3.13.8)",
   "language": "python",
   "name": "python3"
  },
  "language_info": {
   "codemirror_mode": {
    "name": "ipython",
    "version": 3
   },
   "file_extension": ".py",
   "mimetype": "text/x-python",
   "name": "python",
   "nbconvert_exporter": "python",
   "pygments_lexer": "ipython3",
   "version": "3.13.9"
  }
 },
 "nbformat": 4,
 "nbformat_minor": 5
}
